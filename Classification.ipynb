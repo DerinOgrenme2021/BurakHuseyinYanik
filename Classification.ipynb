{
  "nbformat": 4,
  "nbformat_minor": 0,
  "metadata": {
    "colab": {
      "name": "Classification.ipynb",
      "provenance": [],
      "collapsed_sections": [],
      "authorship_tag": "ABX9TyNJGSeooBIF23ByKVctLGnS",
      "include_colab_link": true
    },
    "kernelspec": {
      "name": "python3",
      "display_name": "Python 3"
    },
    "language_info": {
      "name": "python"
    }
  },
  "cells": [
    {
      "cell_type": "markdown",
      "metadata": {
        "id": "view-in-github",
        "colab_type": "text"
      },
      "source": [
        "<a href=\"https://colab.research.google.com/github/DerinOgrenme2021/BurakHuseyinYanik/blob/main/Classification.ipynb\" target=\"_parent\"><img src=\"https://colab.research.google.com/assets/colab-badge.svg\" alt=\"Open In Colab\"/></a>"
      ]
    },
    {
      "cell_type": "code",
      "metadata": {
        "id": "HY8_mTfSZwCR"
      },
      "source": [
        "from sklearn.datasets import load_iris\n",
        "from sklearn.model_selection import train_test_split\n",
        "from sklearn.naive_bayes import GaussianNB\n",
        "X,y=load_iris(return_X_y=True)\n",
        "X_train,X_test,y_train,y_test=train_test_split(X,y,test_size=0.2)"
      ],
      "execution_count": 11,
      "outputs": []
    },
    {
      "cell_type": "code",
      "metadata": {
        "colab": {
          "base_uri": "https://localhost:8080/"
        },
        "id": "On1YpCMCgGLb",
        "outputId": "8f24566a-8742-41bc-c1d9-946067823d25"
      },
      "source": [
        "gnb=GaussianNB()\n",
        "gnb.fit(X_train,y_train)"
      ],
      "execution_count": 14,
      "outputs": [
        {
          "output_type": "execute_result",
          "data": {
            "text/plain": [
              "GaussianNB(priors=None, var_smoothing=1e-09)"
            ]
          },
          "metadata": {
            "tags": []
          },
          "execution_count": 14
        }
      ]
    },
    {
      "cell_type": "code",
      "metadata": {
        "colab": {
          "base_uri": "https://localhost:8080/"
        },
        "id": "RHpJ3oKTg-UH",
        "outputId": "69b962a5-3cec-4517-c75f-a612bf578755"
      },
      "source": [
        "y_predict=gnb.predict(X_test)\n",
        "y_predict"
      ],
      "execution_count": 16,
      "outputs": [
        {
          "output_type": "execute_result",
          "data": {
            "text/plain": [
              "array([0, 0, 2, 2, 0, 2, 0, 2, 1, 2, 1, 0, 0, 2, 2, 1, 2, 1, 2, 0, 2, 0,\n",
              "       2, 0, 0, 2, 2, 1, 0, 2])"
            ]
          },
          "metadata": {
            "tags": []
          },
          "execution_count": 16
        }
      ]
    },
    {
      "cell_type": "code",
      "metadata": {
        "colab": {
          "base_uri": "https://localhost:8080/"
        },
        "id": "xxNQR8nohJHI",
        "outputId": "db4336f4-4bcd-4ba7-eb4e-ea1bf9dcd05f"
      },
      "source": [
        "y_test"
      ],
      "execution_count": 17,
      "outputs": [
        {
          "output_type": "execute_result",
          "data": {
            "text/plain": [
              "array([0, 0, 2, 2, 0, 2, 0, 2, 2, 2, 1, 0, 0, 2, 1, 1, 2, 1, 2, 0, 2, 0,\n",
              "       2, 0, 0, 2, 2, 1, 0, 2])"
            ]
          },
          "metadata": {
            "tags": []
          },
          "execution_count": 17
        }
      ]
    },
    {
      "cell_type": "code",
      "metadata": {
        "colab": {
          "base_uri": "https://localhost:8080/"
        },
        "id": "R7FkQ8bnhux7",
        "outputId": "a61449bd-6508-484a-e77e-acd3e8b094f7"
      },
      "source": [
        "from sklearn.metrics import accuracy_score, precision_score\n",
        "\n",
        "accuracy_score(y_test,y_predict)\n",
        "precision_score(y_test,y_predict,average=None)"
      ],
      "execution_count": 21,
      "outputs": [
        {
          "output_type": "execute_result",
          "data": {
            "text/plain": [
              "array([1.        , 0.8       , 0.92857143])"
            ]
          },
          "metadata": {
            "tags": []
          },
          "execution_count": 21
        }
      ]
    },
    {
      "cell_type": "code",
      "metadata": {
        "id": "qgC65GUwlKy4"
      },
      "source": [
        "from sklearn import tree\n",
        "dtc=tree.DecisionTreeClassifier()\n",
        "dtc.fit(X_train,y_train)\n",
        "y_predict=dtc.predict(X_test)"
      ],
      "execution_count": 26,
      "outputs": []
    },
    {
      "cell_type": "code",
      "metadata": {
        "colab": {
          "base_uri": "https://localhost:8080/"
        },
        "id": "iBc1CgMLmGIh",
        "outputId": "9940f22d-16c2-4eb0-af21-32b77155eb04"
      },
      "source": [
        "y_predict"
      ],
      "execution_count": 27,
      "outputs": [
        {
          "output_type": "execute_result",
          "data": {
            "text/plain": [
              "array([0, 0, 2, 2, 0, 2, 0, 2, 2, 2, 1, 0, 0, 2, 2, 1, 2, 1, 2, 0, 1, 0,\n",
              "       2, 0, 0, 2, 2, 1, 0, 2])"
            ]
          },
          "metadata": {
            "tags": []
          },
          "execution_count": 27
        }
      ]
    },
    {
      "cell_type": "code",
      "metadata": {
        "colab": {
          "base_uri": "https://localhost:8080/"
        },
        "id": "asAaSxF3mKqe",
        "outputId": "a94b8daa-beec-43e8-f079-5b9bb1ce7cca"
      },
      "source": [
        "y_test"
      ],
      "execution_count": 28,
      "outputs": [
        {
          "output_type": "execute_result",
          "data": {
            "text/plain": [
              "array([0, 0, 2, 2, 0, 2, 0, 2, 2, 2, 1, 0, 0, 2, 1, 1, 2, 1, 2, 0, 2, 0,\n",
              "       2, 0, 0, 2, 2, 1, 0, 2])"
            ]
          },
          "metadata": {
            "tags": []
          },
          "execution_count": 28
        }
      ]
    },
    {
      "cell_type": "code",
      "metadata": {
        "colab": {
          "base_uri": "https://localhost:8080/"
        },
        "id": "TCRq-rhRmBHY",
        "outputId": "25dff174-d44c-490a-af0d-294a1387154a"
      },
      "source": [
        "from sklearn.metrics import accuracy_score, precision_score\n",
        "\n",
        "accuracy_score(y_test,y_predict)\n",
        "precision_score(y_test,y_predict,average=None)"
      ],
      "execution_count": 37,
      "outputs": [
        {
          "output_type": "execute_result",
          "data": {
            "text/plain": [
              "array([1.        , 0.8       , 0.92857143])"
            ]
          },
          "metadata": {
            "tags": []
          },
          "execution_count": 37
        }
      ]
    },
    {
      "cell_type": "code",
      "metadata": {
        "id": "AyJaZ_5SmYvY"
      },
      "source": [
        "from sklearn.neighbors import NearestCentroid\n",
        "nn=NearestCentroid()\n",
        "nn.fit(X_train,y_train)\n",
        "y_predict=nn.predict(X_test)"
      ],
      "execution_count": 38,
      "outputs": []
    },
    {
      "cell_type": "code",
      "metadata": {
        "colab": {
          "base_uri": "https://localhost:8080/"
        },
        "id": "eaXE2FaRm9GF",
        "outputId": "95138743-9b27-4139-ae54-8374107df52f"
      },
      "source": [
        "from sklearn.metrics import accuracy_score, precision_score\n",
        "\n",
        "accuracy_score(y_test,y_predict)\n",
        "#precision_score(y_test,y_predict,average=None)"
      ],
      "execution_count": 39,
      "outputs": [
        {
          "output_type": "execute_result",
          "data": {
            "text/plain": [
              "0.9333333333333333"
            ]
          },
          "metadata": {
            "tags": []
          },
          "execution_count": 39
        }
      ]
    },
    {
      "cell_type": "code",
      "metadata": {
        "colab": {
          "base_uri": "https://localhost:8080/"
        },
        "id": "RATeHL2anJtP",
        "outputId": "4a8a644f-31d9-494f-f42f-0b144f8c4a5d"
      },
      "source": [
        "y_predict"
      ],
      "execution_count": 40,
      "outputs": [
        {
          "output_type": "execute_result",
          "data": {
            "text/plain": [
              "array([0, 0, 2, 2, 0, 2, 0, 2, 2, 2, 1, 0, 0, 2, 2, 1, 2, 1, 2, 0, 2, 0,\n",
              "       2, 0, 0, 1, 2, 1, 0, 2])"
            ]
          },
          "metadata": {
            "tags": []
          },
          "execution_count": 40
        }
      ]
    },
    {
      "cell_type": "code",
      "metadata": {
        "colab": {
          "base_uri": "https://localhost:8080/"
        },
        "id": "_57tFX_tnLqS",
        "outputId": "fc28b9cd-5bcb-4dea-c567-98ed15cef295"
      },
      "source": [
        "y_test"
      ],
      "execution_count": 41,
      "outputs": [
        {
          "output_type": "execute_result",
          "data": {
            "text/plain": [
              "array([0, 0, 2, 2, 0, 2, 0, 2, 2, 2, 1, 0, 0, 2, 1, 1, 2, 1, 2, 0, 2, 0,\n",
              "       2, 0, 0, 2, 2, 1, 0, 2])"
            ]
          },
          "metadata": {
            "tags": []
          },
          "execution_count": 41
        }
      ]
    },
    {
      "cell_type": "code",
      "metadata": {
        "id": "zFPzKUgBoLEu"
      },
      "source": [
        "from sklearn.neural_network import MLPClassifier\n",
        "mlp=MLPClassifier()"
      ],
      "execution_count": 43,
      "outputs": []
    },
    {
      "cell_type": "code",
      "metadata": {
        "colab": {
          "base_uri": "https://localhost:8080/"
        },
        "id": "MLRU41xQoUZz",
        "outputId": "929c3fff-5d76-4bbf-e0a7-944cb654a83c"
      },
      "source": [
        "mlp.fit(X_train, y_train)\n",
        "y_predict=mlp.predict(X_test)"
      ],
      "execution_count": 44,
      "outputs": [
        {
          "output_type": "stream",
          "text": [
            "/usr/local/lib/python3.7/dist-packages/sklearn/neural_network/_multilayer_perceptron.py:571: ConvergenceWarning: Stochastic Optimizer: Maximum iterations (200) reached and the optimization hasn't converged yet.\n",
            "  % self.max_iter, ConvergenceWarning)\n"
          ],
          "name": "stderr"
        }
      ]
    },
    {
      "cell_type": "code",
      "metadata": {
        "colab": {
          "base_uri": "https://localhost:8080/"
        },
        "id": "0EL1sr94ojvu",
        "outputId": "ebd6c870-7b36-4c6f-b217-2e7aa0df958f"
      },
      "source": [
        "from sklearn.metrics import accuracy_score, precision_score\n",
        "\n",
        "accuracy_score(y_test,y_predict)"
      ],
      "execution_count": 45,
      "outputs": [
        {
          "output_type": "execute_result",
          "data": {
            "text/plain": [
              "1.0"
            ]
          },
          "metadata": {
            "tags": []
          },
          "execution_count": 45
        }
      ]
    },
    {
      "cell_type": "code",
      "metadata": {
        "id": "bpk2m88Mq-Ru"
      },
      "source": [
        "from sklearn.multiclass import OneVsRestClassifier\n",
        "from sklearn.svm import LinearSVC"
      ],
      "execution_count": 48,
      "outputs": []
    },
    {
      "cell_type": "code",
      "metadata": {
        "colab": {
          "base_uri": "https://localhost:8080/"
        },
        "id": "2hZOSYU7sKaZ",
        "outputId": "551ccb89-ad46-4216-a503-da52e4a68197"
      },
      "source": [
        "ovr=OneVsRestClassifier(LinearSVC(random_state=0)).fit(X_train, y_train).predict(X_test)"
      ],
      "execution_count": 49,
      "outputs": [
        {
          "output_type": "stream",
          "text": [
            "/usr/local/lib/python3.7/dist-packages/sklearn/svm/_base.py:947: ConvergenceWarning: Liblinear failed to converge, increase the number of iterations.\n",
            "  \"the number of iterations.\", ConvergenceWarning)\n",
            "/usr/local/lib/python3.7/dist-packages/sklearn/svm/_base.py:947: ConvergenceWarning: Liblinear failed to converge, increase the number of iterations.\n",
            "  \"the number of iterations.\", ConvergenceWarning)\n"
          ],
          "name": "stderr"
        }
      ]
    },
    {
      "cell_type": "code",
      "metadata": {
        "colab": {
          "base_uri": "https://localhost:8080/"
        },
        "id": "ey8-0ig7sMhI",
        "outputId": "ee7e7c60-c9dc-4ac4-8fb9-4cbc0544777c"
      },
      "source": [
        "ovr"
      ],
      "execution_count": 50,
      "outputs": [
        {
          "output_type": "execute_result",
          "data": {
            "text/plain": [
              "array([0, 0, 2, 2, 0, 2, 0, 2, 1, 2, 1, 0, 0, 2, 1, 1, 2, 1, 2, 0, 1, 0,\n",
              "       2, 0, 0, 2, 2, 1, 0, 2])"
            ]
          },
          "metadata": {
            "tags": []
          },
          "execution_count": 50
        }
      ]
    },
    {
      "cell_type": "code",
      "metadata": {
        "colab": {
          "base_uri": "https://localhost:8080/"
        },
        "id": "MLbwdKzWsSV-",
        "outputId": "4d98aecb-ed60-4d9e-a3aa-098ea7f6f145"
      },
      "source": [
        "from sklearn.metrics import accuracy_score, precision_score\n",
        "\n",
        "accuracy_score(y_test,y_predict)"
      ],
      "execution_count": 51,
      "outputs": [
        {
          "output_type": "execute_result",
          "data": {
            "text/plain": [
              "1.0"
            ]
          },
          "metadata": {
            "tags": []
          },
          "execution_count": 51
        }
      ]
    },
    {
      "cell_type": "code",
      "metadata": {
        "colab": {
          "base_uri": "https://localhost:8080/"
        },
        "id": "Idgz0-MYsTyq",
        "outputId": "c62ac43b-0088-485e-a32f-aca334d4356d"
      },
      "source": [
        "y_predict"
      ],
      "execution_count": 52,
      "outputs": [
        {
          "output_type": "execute_result",
          "data": {
            "text/plain": [
              "array([0, 0, 2, 2, 0, 2, 0, 2, 2, 2, 1, 0, 0, 2, 1, 1, 2, 1, 2, 0, 2, 0,\n",
              "       2, 0, 0, 2, 2, 1, 0, 2])"
            ]
          },
          "metadata": {
            "tags": []
          },
          "execution_count": 52
        }
      ]
    },
    {
      "cell_type": "code",
      "metadata": {
        "colab": {
          "base_uri": "https://localhost:8080/"
        },
        "id": "I7GAwi6JsV_o",
        "outputId": "1ff64008-9e34-44e3-dfc7-5c3cd254ea36"
      },
      "source": [
        "y_test"
      ],
      "execution_count": 53,
      "outputs": [
        {
          "output_type": "execute_result",
          "data": {
            "text/plain": [
              "array([0, 0, 2, 2, 0, 2, 0, 2, 2, 2, 1, 0, 0, 2, 1, 1, 2, 1, 2, 0, 2, 0,\n",
              "       2, 0, 0, 2, 2, 1, 0, 2])"
            ]
          },
          "metadata": {
            "tags": []
          },
          "execution_count": 53
        }
      ]
    },
    {
      "cell_type": "code",
      "metadata": {
        "id": "3qdtlVa_sYvC"
      },
      "source": [
        "from sklearn.multiclass import OneVsOneClassifier\n",
        "from sklearn.svm import LinearSVC"
      ],
      "execution_count": 54,
      "outputs": []
    },
    {
      "cell_type": "code",
      "metadata": {
        "colab": {
          "base_uri": "https://localhost:8080/"
        },
        "id": "c2GQdXV6so8Y",
        "outputId": "82d6c471-91bf-4213-d11b-dab1575b1f77"
      },
      "source": [
        "ovo=OneVsOneClassifier(LinearSVC(random_state=0)).fit(X_train, y_train).predict(X_test)"
      ],
      "execution_count": 55,
      "outputs": [
        {
          "output_type": "stream",
          "text": [
            "/usr/local/lib/python3.7/dist-packages/sklearn/svm/_base.py:947: ConvergenceWarning: Liblinear failed to converge, increase the number of iterations.\n",
            "  \"the number of iterations.\", ConvergenceWarning)\n"
          ],
          "name": "stderr"
        }
      ]
    },
    {
      "cell_type": "code",
      "metadata": {
        "colab": {
          "base_uri": "https://localhost:8080/"
        },
        "id": "6zGvoErosspy",
        "outputId": "7f390c6f-395e-40d8-b1cd-48843aad7da2"
      },
      "source": [
        "ovo"
      ],
      "execution_count": 56,
      "outputs": [
        {
          "output_type": "execute_result",
          "data": {
            "text/plain": [
              "array([0, 0, 2, 2, 0, 2, 0, 2, 2, 2, 1, 0, 0, 2, 1, 1, 2, 1, 2, 0, 2, 0,\n",
              "       2, 0, 0, 2, 2, 1, 0, 2])"
            ]
          },
          "metadata": {
            "tags": []
          },
          "execution_count": 56
        }
      ]
    },
    {
      "cell_type": "code",
      "metadata": {
        "colab": {
          "base_uri": "https://localhost:8080/"
        },
        "id": "B8K1X-SusvkE",
        "outputId": "c28d926c-967c-4da7-8e30-5c627a6decc8"
      },
      "source": [
        "from sklearn.metrics import accuracy_score, precision_score\n",
        "accuracy_score(y_test,y_predict)"
      ],
      "execution_count": 57,
      "outputs": [
        {
          "output_type": "execute_result",
          "data": {
            "text/plain": [
              "1.0"
            ]
          },
          "metadata": {
            "tags": []
          },
          "execution_count": 57
        }
      ]
    },
    {
      "cell_type": "code",
      "metadata": {
        "colab": {
          "base_uri": "https://localhost:8080/"
        },
        "id": "un2_PWddsxhF",
        "outputId": "a6c77174-c36e-463a-9c7d-5b8919b11670"
      },
      "source": [
        "y_predict"
      ],
      "execution_count": 58,
      "outputs": [
        {
          "output_type": "execute_result",
          "data": {
            "text/plain": [
              "array([0, 0, 2, 2, 0, 2, 0, 2, 2, 2, 1, 0, 0, 2, 1, 1, 2, 1, 2, 0, 2, 0,\n",
              "       2, 0, 0, 2, 2, 1, 0, 2])"
            ]
          },
          "metadata": {
            "tags": []
          },
          "execution_count": 58
        }
      ]
    },
    {
      "cell_type": "code",
      "metadata": {
        "colab": {
          "base_uri": "https://localhost:8080/"
        },
        "id": "z7D7IB7Isy5y",
        "outputId": "6a9c23c8-e8b9-4e3e-9a30-bf70dd976dfc"
      },
      "source": [
        "y_test"
      ],
      "execution_count": 59,
      "outputs": [
        {
          "output_type": "execute_result",
          "data": {
            "text/plain": [
              "array([0, 0, 2, 2, 0, 2, 0, 2, 2, 2, 1, 0, 0, 2, 1, 1, 2, 1, 2, 0, 2, 0,\n",
              "       2, 0, 0, 2, 2, 1, 0, 2])"
            ]
          },
          "metadata": {
            "tags": []
          },
          "execution_count": 59
        }
      ]
    },
    {
      "cell_type": "code",
      "metadata": {
        "colab": {
          "base_uri": "https://localhost:8080/"
        },
        "id": "jUThzn4Hs-W0",
        "outputId": "c41a4e94-06c4-4c7d-e300-31795fa264ac"
      },
      "source": [
        "from sklearn.naive_bayes import MultinomialNB\n",
        "mnb=MultinomialNB()\n",
        "mnb.fit(X_train,y_train)"
      ],
      "execution_count": 60,
      "outputs": [
        {
          "output_type": "execute_result",
          "data": {
            "text/plain": [
              "MultinomialNB(alpha=1.0, class_prior=None, fit_prior=True)"
            ]
          },
          "metadata": {
            "tags": []
          },
          "execution_count": 60
        }
      ]
    },
    {
      "cell_type": "code",
      "metadata": {
        "id": "3Y81LeG9tSH3"
      },
      "source": [
        "predict_mnb=mnb.predict(X_test)"
      ],
      "execution_count": 63,
      "outputs": []
    },
    {
      "cell_type": "code",
      "metadata": {
        "colab": {
          "base_uri": "https://localhost:8080/"
        },
        "id": "msl_Z2QBtmSK",
        "outputId": "fda0ae17-1609-427e-fe3f-d8985d999564"
      },
      "source": [
        "accuracy_score(y_test,predict_mnb)"
      ],
      "execution_count": 65,
      "outputs": [
        {
          "output_type": "execute_result",
          "data": {
            "text/plain": [
              "0.5666666666666667"
            ]
          },
          "metadata": {
            "tags": []
          },
          "execution_count": 65
        }
      ]
    },
    {
      "cell_type": "code",
      "metadata": {
        "colab": {
          "base_uri": "https://localhost:8080/"
        },
        "id": "LTetjivrtlIj",
        "outputId": "6e6d9dec-abb4-4549-a561-7693f5a58312"
      },
      "source": [
        "predict_mnb"
      ],
      "execution_count": 66,
      "outputs": [
        {
          "output_type": "execute_result",
          "data": {
            "text/plain": [
              "array([0, 0, 1, 1, 0, 1, 0, 2, 1, 1, 1, 0, 0, 1, 1, 1, 1, 1, 1, 0, 1, 0,\n",
              "       1, 0, 0, 1, 1, 1, 0, 1])"
            ]
          },
          "metadata": {
            "tags": []
          },
          "execution_count": 66
        }
      ]
    },
    {
      "cell_type": "code",
      "metadata": {
        "colab": {
          "base_uri": "https://localhost:8080/"
        },
        "id": "x_pFc2dIteFI",
        "outputId": "78e6b5f2-a23f-4f8e-946b-42b58c43096d"
      },
      "source": [
        "y_test"
      ],
      "execution_count": 67,
      "outputs": [
        {
          "output_type": "execute_result",
          "data": {
            "text/plain": [
              "array([0, 0, 2, 2, 0, 2, 0, 2, 2, 2, 1, 0, 0, 2, 1, 1, 2, 1, 2, 0, 2, 0,\n",
              "       2, 0, 0, 2, 2, 1, 0, 2])"
            ]
          },
          "metadata": {
            "tags": []
          },
          "execution_count": 67
        }
      ]
    }
  ]
}